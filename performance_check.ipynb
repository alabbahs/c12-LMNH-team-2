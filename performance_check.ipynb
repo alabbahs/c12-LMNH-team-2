{
 "cells": [
  {
   "cell_type": "code",
   "execution_count": 1,
   "metadata": {},
   "outputs": [
    {
     "name": "stdout",
     "output_type": "stream",
     "text": [
      "/Users/joshuasigma/Documents/Sigma/museum-dannyGs-codedungeon/.venv/bin/python\n",
      "snakeviz web server started on 127.0.0.1:8080; enter Ctrl-C to exit\n",
      "http://127.0.0.1:8080/snakeviz/%2FUsers%2Fjoshuasigma%2FDocuments%2FSigma%2Fmuseum-dannyGs-codedungeon%2Flogs%2Ftransform_performance.prof\n"
     ]
    }
   ],
   "source": [
    "\n",
    "import sys\n",
    "print(sys.executable)\n",
    "\n",
    "import snakeviz\n",
    "import config as cg\n",
    "from constants import Constants as ct\n",
    "\n",
    "LOGS_DIR = ct.PATH_TO_LOGS\n",
    "\n",
    "PROFILE_FILE = f\"{ct.PATH_TO_LOGS}/transform_performance.prof\" \n",
    "\n",
    "!snakeviz {PROFILE_FILE}"
   ]
  }
 ],
 "metadata": {
  "kernelspec": {
   "display_name": "Python 3",
   "language": "python",
   "name": "python3"
  },
  "language_info": {
   "codemirror_mode": {
    "name": "ipython",
    "version": 3
   },
   "file_extension": ".py",
   "mimetype": "text/x-python",
   "name": "python",
   "nbconvert_exporter": "python",
   "pygments_lexer": "ipython3",
   "version": "3.12.3"
  }
 },
 "nbformat": 4,
 "nbformat_minor": 2
}
