{
 "cells": [
  {
   "cell_type": "markdown",
   "metadata": {},
   "source": [
    "# Performance Tracker\n",
    "\n",
    "### Tracks the performance of all scripts that generate a `.prof` file and store it in logs\n",
    "\n",
    "This can be very difficult to run because Jupyter selects and runs from the wrong kernels. If for example you have installed `sankeViz` but it is saying it cannot be imported, it is using the wrong python kernel - it must be using you `.venv`.\n",
    "\n",
    "You might have to use the following command:\n",
    "`python -m ipykernel install --user --name my_venv --display-name \"Python 3.12.2 (venv)\"`\n",
    "... to force the kernel to use your `.venv` as well as python 3. This did not help me."
   ]
  },
  {
   "cell_type": "code",
   "execution_count": null,
   "metadata": {},
   "outputs": [
    {
     "ename": "",
     "evalue": "",
     "output_type": "error",
     "traceback": [
      "\u001b[1;31mThe kernel failed to start as the Python Environment 'Python' is no longer available. Consider selecting another kernel or refreshing the list of Python Environments."
     ]
    }
   ],
   "source": [
    "import sys\n",
    "import os\n",
    "import glob\n",
    "\n",
    "import snakeviz\n",
    "import config as cg\n",
    "from constants import Constants as ct\n",
    "\n",
    "# Path to the logs directory\n",
    "LOGS_DIR = ct.PATH_TO_LOGS\n",
    "\n",
    "# Find all .prof files in the logs directory\n",
    "profile_files = glob.glob(os.path.join(LOGS_DIR, '*.prof'))\n",
    "\n",
    "# Run snakeviz for each .prof file found\n",
    "for profile_file in profile_files:\n",
    "    print(f\"Running snakeviz for {profile_file}\")\n",
    "    os.system(f\"snakeviz {profile_file}\")"
   ]
  }
 ],
 "metadata": {
  "kernelspec": {
   "display_name": "Python 3",
   "language": "python",
   "name": "python3"
  },
  "language_info": {
   "codemirror_mode": {
    "name": "ipython",
    "version": 3
   },
   "file_extension": ".py",
   "mimetype": "text/x-python",
   "name": "python",
   "nbconvert_exporter": "python",
   "pygments_lexer": "ipython3",
   "version": "3.12.3"
  }
 },
 "nbformat": 4,
 "nbformat_minor": 2
}
